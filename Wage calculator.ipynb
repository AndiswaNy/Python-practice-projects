{
 "cells": [
  {
   "cell_type": "markdown",
   "id": "b8c8e7d7",
   "metadata": {},
   "source": [
    "Wage calculator\n",
    "The function asks the user to enter their name, hourly wage and number of hours worked for mutiple workers and then creates a text file showing how much each worker will earn for a specific month. "
   ]
  },
  {
   "cell_type": "code",
   "execution_count": 88,
   "id": "38c9e166",
   "metadata": {},
   "outputs": [],
   "source": [
    "def wages_file():\n",
    "    f=open(\"Wages.txt\",'a')\n",
    "    end = False\n",
    "    while end == False:\n",
    "      name = input(\"Enter your full name: \")\n",
    "      hours_per_day = int(input(\"Enter the number of hours worked: \"))\n",
    "      hourly_wage = int(input(\"Enter hourly wage: \"))\n",
    "      monthly_wage = hourly_wage * hours_per_day\n",
    "      output = name + \"|\" + str(monthly_wage)\n",
    "      f.write(output)\n",
    "      f.write(\"\\n\")\n",
    "      do_want_to_continue = input(\"Do you want to continue? \")\n",
    "      if do_want_to_continue == \"Yes\":\n",
    "        end = False\n",
    "      else:\n",
    "        end = True\n",
    "    f.close()\n",
    "\n",
    "    f = open(\"Wages.txt\", \"r\")\n",
    "    \n",
    "    for line in f:\n",
    "        print(line)"
   ]
  },
  {
   "cell_type": "code",
   "execution_count": 89,
   "id": "4d20e395",
   "metadata": {},
   "outputs": [
    {
     "name": "stdout",
     "output_type": "stream",
     "text": [
      "Enter your full name: Andiswa Nyongwana\n",
      "Enter the number of hours worked: 40\n",
      "Enter hourly wage: 600\n",
      "Do you want to continue? Yes\n",
      "Enter your full name: Paseka Lesolang\n",
      "Enter the number of hours worked: 40\n",
      "Enter hourly wage: 500\n",
      "Do you want to continue? No\n",
      "Andiswa Nyongwana|24000\n",
      "\n",
      "Paseka Lesolang|20000\n",
      "\n"
     ]
    }
   ],
   "source": [
    "wages_file()"
   ]
  },
  {
   "cell_type": "code",
   "execution_count": null,
   "id": "bfb0c88f",
   "metadata": {},
   "outputs": [],
   "source": []
  }
 ],
 "metadata": {
  "kernelspec": {
   "display_name": "Python 3",
   "language": "python",
   "name": "python3"
  }
 },
 "nbformat": 4,
 "nbformat_minor": 5
}
